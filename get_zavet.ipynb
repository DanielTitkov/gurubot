{
 "cells": [
  {
   "cell_type": "code",
   "execution_count": 117,
   "metadata": {},
   "outputs": [],
   "source": [
    "import requests\n",
    "import re\n",
    "from tqdm import tqdm\n",
    "import time\n",
    "import string\n",
    "import random"
   ]
  },
  {
   "cell_type": "code",
   "execution_count": 87,
   "metadata": {},
   "outputs": [],
   "source": [
    "basepath = 'http://www.ermak.su/context/afor_posl_zag/poslov_{}.htm'\n",
    "html_re = '''<p class=\"MsoNormal\" style=\"text-indent: 40px; margin-left: 20px; margin-right: 10px; margin-top: 6px; margin-bottom: 6px\">([А-Яа-я\\.\\,\\?\\!\\-\\s]+?)</p>'''\n",
    "paths = [basepath.format(char) for char in list(string.ascii_lowercase)+['zh','sh']]"
   ]
  },
  {
   "cell_type": "code",
   "execution_count": 88,
   "metadata": {},
   "outputs": [
    {
     "name": "stderr",
     "output_type": "stream",
     "text": [
      " 11%|████████▉                                                                          | 3/28 [00:00<00:00, 26.23it/s]"
     ]
    },
    {
     "name": "stdout",
     "output_type": "stream",
     "text": [
      "http://www.ermak.su/context/afor_posl_zag/poslov_f.htm 404\n"
     ]
    },
    {
     "name": "stderr",
     "output_type": "stream",
     "text": [
      " 32%|██████████████████████████▋                                                        | 9/28 [00:00<00:00, 25.65it/s]"
     ]
    },
    {
     "name": "stdout",
     "output_type": "stream",
     "text": [
      "http://www.ermak.su/context/afor_posl_zag/poslov_j.htm 404\n"
     ]
    },
    {
     "name": "stderr",
     "output_type": "stream",
     "text": [
      " 57%|██████████████████████████████████████████████▊                                   | 16/28 [00:00<00:00, 26.68it/s]"
     ]
    },
    {
     "name": "stdout",
     "output_type": "stream",
     "text": [
      "http://www.ermak.su/context/afor_posl_zag/poslov_q.htm 404\n"
     ]
    },
    {
     "name": "stderr",
     "output_type": "stream",
     "text": [
      "\r",
      " 68%|███████████████████████████████████████████████████████▋                          | 19/28 [00:00<00:00, 26.45it/s]"
     ]
    },
    {
     "name": "stdout",
     "output_type": "stream",
     "text": [
      "http://www.ermak.su/context/afor_posl_zag/poslov_w.htm 404\n"
     ]
    },
    {
     "name": "stderr",
     "output_type": "stream",
     "text": [
      "\r",
      " 82%|███████████████████████████████████████████████████████████████████▎              | 23/28 [00:00<00:00, 26.74it/s]"
     ]
    },
    {
     "name": "stdout",
     "output_type": "stream",
     "text": [
      "http://www.ermak.su/context/afor_posl_zag/poslov_x.htm 404\n"
     ]
    },
    {
     "name": "stderr",
     "output_type": "stream",
     "text": [
      "100%|██████████████████████████████████████████████████████████████████████████████████| 28/28 [00:01<00:00, 26.98it/s]\n"
     ]
    },
    {
     "name": "stdout",
     "output_type": "stream",
     "text": [
      "Wall time: 1.05 s\n"
     ]
    }
   ],
   "source": [
    "%%time\n",
    "zavets = []\n",
    "for path in tqdm(paths):\n",
    "    try:\n",
    "        r = requests.get(path)\n",
    "        if r.status_code == 200:\n",
    "            chunk = re.findall(html_re, r.text, re.DOTALL)\n",
    "            zavets += chunk\n",
    "        else: \n",
    "            print(path, r.status_code)\n",
    "    except Exception as e:\n",
    "        print(path, e)"
   ]
  },
  {
   "cell_type": "code",
   "execution_count": 113,
   "metadata": {},
   "outputs": [
    {
     "data": {
      "text/plain": [
       "1644"
      ]
     },
     "execution_count": 113,
     "metadata": {},
     "output_type": "execute_result"
    }
   ],
   "source": [
    "len(zavets)"
   ]
  },
  {
   "cell_type": "code",
   "execution_count": 119,
   "metadata": {},
   "outputs": [
    {
     "name": "stdout",
     "output_type": "stream",
     "text": [
      "Wall time: 84.2 ms\n"
     ]
    }
   ],
   "source": [
    "%%time\n",
    "for i, p in enumerate(zavets):\n",
    "    replacements = [\n",
    "        ('\\s?Ср\\.\\s?', ' '),\n",
    "        ('\\(.*?\\)', ''),\n",
    "        ('(\\S) +(\\.)', '\\g<1>\\g<2>'),\n",
    "        ('[a-zA-Z\\\\t\\\\n\\\\r]*', ''),\n",
    "        ('^\\W+(\\w+)', '\\g<1>'),\n",
    "        (' +', ' '),\n",
    "    ]\n",
    "    for old, new in replacements:\n",
    "        p = re.sub(old, new, p)\n",
    "    zavets[i] = p"
   ]
  },
  {
   "cell_type": "code",
   "execution_count": 180,
   "metadata": {},
   "outputs": [],
   "source": [
    "path2 = 'http://libbabr.com/?book=6972'\n",
    "rt = requests.get(path2).text\n",
    "html_re2 = '''<p>([А-Яа-я\\,\\.\\!\\?\\s]{3,})\\s\\r<p>'''\n",
    "zavets2 = [re.sub('^\\s(.+)','\\g<1>', z) for z in re.findall(html_re2, rt, re.DOTALL)]"
   ]
  },
  {
   "cell_type": "code",
   "execution_count": 183,
   "metadata": {},
   "outputs": [
    {
     "data": {
      "text/plain": [
       "150"
      ]
     },
     "execution_count": 183,
     "metadata": {},
     "output_type": "execute_result"
    }
   ],
   "source": [
    "len(zavets2)"
   ]
  },
  {
   "cell_type": "code",
   "execution_count": 191,
   "metadata": {},
   "outputs": [],
   "source": [
    "zavets_all = list(set(zavets + zavets2))\n",
    "len(zavets_all)"
   ]
  },
  {
   "cell_type": "code",
   "execution_count": 193,
   "metadata": {},
   "outputs": [],
   "source": [
    "with open('zavets.txt', 'w', encoding='utf-8') as f:\n",
    "    for i in zavets_all:\n",
    "        f.write(\"{}\\n\".format(i))"
   ]
  }
 ],
 "metadata": {
  "kernelspec": {
   "display_name": "Python 3",
   "language": "python",
   "name": "python3"
  },
  "language_info": {
   "codemirror_mode": {
    "name": "ipython",
    "version": 3
   },
   "file_extension": ".py",
   "mimetype": "text/x-python",
   "name": "python",
   "nbconvert_exporter": "python",
   "pygments_lexer": "ipython3",
   "version": "3.6.2"
  }
 },
 "nbformat": 4,
 "nbformat_minor": 2
}
