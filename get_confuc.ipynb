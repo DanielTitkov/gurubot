{
 "cells": [
  {
   "cell_type": "code",
   "execution_count": 2,
   "metadata": {},
   "outputs": [],
   "source": [
    "import requests\n",
    "import re\n",
    "from tqdm import tqdm\n",
    "import time\n",
    "import string\n",
    "import random"
   ]
  },
  {
   "cell_type": "code",
   "execution_count": 78,
   "metadata": {},
   "outputs": [
    {
     "data": {
      "text/plain": [
       "'<div class=\"quote-text\"><div class=\"quote-text-inner\" id=\"quote-text-inner-1055\">'"
      ]
     },
     "execution_count": 78,
     "metadata": {},
     "output_type": "execute_result"
    }
   ],
   "source": [
    "basepath = 'https://quote-citation.com/author/confucius/page/{}'\n",
    "html_re = '''<p>(.+?)</p>\\n'''\n",
    "paths = [basepath.format(i) for i in range(1,6)]\n",
    "'''<div class=\"quote-text\"><div class=\"quote-text-inner\" id=\"quote-text-inner-1055\">'''"
   ]
  },
  {
   "cell_type": "code",
   "execution_count": 82,
   "metadata": {},
   "outputs": [
    {
     "name": "stderr",
     "output_type": "stream",
     "text": [
      "100%|████████████████████████████████████████████████████████████████████████████████████| 5/5 [00:03<00:00,  1.54it/s]\n"
     ]
    }
   ],
   "source": [
    "confuc = []\n",
    "for path in tqdm(paths):\n",
    "    try:\n",
    "        r = requests.get(path)\n",
    "        if r.status_code == 200:\n",
    "            chunk = re.findall(html_re, r.text, re.DOTALL)\n",
    "            confuc += chunk\n",
    "        else: \n",
    "            print(path, r.status_code)\n",
    "    except Exception as e:\n",
    "        print(path, e)"
   ]
  },
  {
   "cell_type": "code",
   "execution_count": 99,
   "metadata": {},
   "outputs": [
    {
     "data": {
      "text/plain": [
       "94"
      ]
     },
     "execution_count": 99,
     "metadata": {},
     "output_type": "execute_result"
    }
   ],
   "source": [
    "len(confuc)"
   ]
  },
  {
   "cell_type": "code",
   "execution_count": null,
   "metadata": {},
   "outputs": [],
   "source": [
    "%%time\n",
    "for i, p in enumerate(confuc):\n",
    "    replacements = [\n",
    "        ('\\s?Ср\\.\\s?', ' '),\n",
    "        ('\\(.*?\\)', ''),\n",
    "        ('(\\S) +(\\.)', '\\g<1>\\g<2>'),\n",
    "        ('[a-zA-Z\\\\t\\\\n\\\\r]*', ''),\n",
    "        ('^\\W+(\\w+)', '\\g<1>'),\n",
    "        (' +', ' '),\n",
    "    ]\n",
    "    for old, new in replacements:\n",
    "        p = re.sub(old, new, p)\n",
    "    confuc[i] = p"
   ]
  },
  {
   "cell_type": "code",
   "execution_count": 95,
   "metadata": {},
   "outputs": [],
   "source": [
    "path2 = 'https://ru.wikiquote.org/wiki/%D0%9A%D0%BE%D0%BD%D1%84%D1%83%D1%86%D0%B8%D0%B9'\n",
    "rt = requests.get(path2).text\n",
    "html_re2 = '''<li>([А-Яа-я0-9\\,\\.\\!\\?\\s\\:\\;\\—\\&\\#]{3,})\\s?</li>'''\n",
    "confuc2 = re.findall(html_re2, rt, re.DOTALL)"
   ]
  },
  {
   "cell_type": "code",
   "execution_count": 96,
   "metadata": {},
   "outputs": [
    {
     "name": "stdout",
     "output_type": "stream",
     "text": [
      "Wall time: 9.05 ms\n"
     ]
    }
   ],
   "source": [
    "%%time\n",
    "for i, p in enumerate(confuc2):\n",
    "    replacements = [\n",
    "        ('\\s?Ср\\.\\s?', ' '),\n",
    "        ('\\(.*?\\)', ''),\n",
    "        ('(\\S) +(\\.)', '\\g<1>\\g<2>'),\n",
    "        ('&#160;',' '),\n",
    "        ('[a-zA-Z\\\\t\\\\n\\\\r\\&\\#0-9]*', ''),\n",
    "        ('^\\W+(\\w+)', '\\g<1>'),\n",
    "        (' +', ' '),\n",
    "    ]\n",
    "    for old, new in replacements:\n",
    "        p = re.sub(old, new, p)\n",
    "    confuc2[i] = p"
   ]
  },
  {
   "cell_type": "code",
   "execution_count": 97,
   "metadata": {},
   "outputs": [
    {
     "data": {
      "text/plain": [
       "74"
      ]
     },
     "execution_count": 97,
     "metadata": {},
     "output_type": "execute_result"
    }
   ],
   "source": [
    "len(confuc2)"
   ]
  },
  {
   "cell_type": "code",
   "execution_count": 98,
   "metadata": {},
   "outputs": [
    {
     "data": {
      "text/plain": [
       "109"
      ]
     },
     "execution_count": 98,
     "metadata": {},
     "output_type": "execute_result"
    }
   ],
   "source": [
    "confuc_all = list(set(confuc + confuc2))\n",
    "len(confuc_all)"
   ]
  },
  {
   "cell_type": "code",
   "execution_count": 100,
   "metadata": {},
   "outputs": [],
   "source": [
    "with open('confuc.txt', 'w', encoding='utf-8') as f:\n",
    "    for i in confuc_all:\n",
    "        f.write(\"{}\\n\".format(i))"
   ]
  }
 ],
 "metadata": {
  "kernelspec": {
   "display_name": "Python 3",
   "language": "python",
   "name": "python3"
  },
  "language_info": {
   "codemirror_mode": {
    "name": "ipython",
    "version": 3
   },
   "file_extension": ".py",
   "mimetype": "text/x-python",
   "name": "python",
   "nbconvert_exporter": "python",
   "pygments_lexer": "ipython3",
   "version": "3.6.2"
  }
 },
 "nbformat": 4,
 "nbformat_minor": 2
}
