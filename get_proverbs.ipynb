{
 "cells": [
  {
   "cell_type": "code",
   "execution_count": 1,
   "metadata": {},
   "outputs": [],
   "source": [
    "import requests\n",
    "import re\n",
    "from tqdm import tqdm\n",
    "import time"
   ]
  },
  {
   "cell_type": "code",
   "execution_count": 2,
   "metadata": {},
   "outputs": [],
   "source": [
    "basepath = 'http://pogovorki.net/cat{:02}/p{}.html'\n",
    "html_re = '''<p class=\"text\" align=\"justify\">(.+?)\\n?<a class=\"pogovorka\".*?</p>'''\n",
    "paths = [basepath.format(cat, p) for cat in range(1,27) for p in range(1,57)]"
   ]
  },
  {
   "cell_type": "code",
   "execution_count": 3,
   "metadata": {},
   "outputs": [
    {
     "name": "stderr",
     "output_type": "stream",
     "text": [
      "100%|██████████████████████████████████████████████████████████████████████████████| 1456/1456 [11:22<00:00,  2.13it/s]\n"
     ]
    },
    {
     "name": "stdout",
     "output_type": "stream",
     "text": [
      "Wall time: 11min 22s\n"
     ]
    }
   ],
   "source": [
    "%%time\n",
    "proverbs = []\n",
    "for path in tqdm(paths):\n",
    "    try:\n",
    "        r = requests.get(path)\n",
    "        if r.status_code == 200:\n",
    "            provb = re.findall(html_re, r.text, re.DOTALL)\n",
    "            proverbs += provb\n",
    "        else: \n",
    "            print(path, r.status_code)\n",
    "    except Exception as e:\n",
    "        print(path, e)"
   ]
  },
  {
   "cell_type": "code",
   "execution_count": 65,
   "metadata": {},
   "outputs": [
    {
     "data": {
      "text/plain": [
       "5746"
      ]
     },
     "execution_count": 65,
     "metadata": {},
     "output_type": "execute_result"
    }
   ],
   "source": [
    "len(proverbs)"
   ]
  },
  {
   "cell_type": "code",
   "execution_count": 73,
   "metadata": {},
   "outputs": [
    {
     "name": "stdout",
     "output_type": "stream",
     "text": [
      "Wall time: 211 ms\n"
     ]
    }
   ],
   "source": [
    "%%time\n",
    "for i, p in enumerate(proverbs):\n",
    "    replacements = [\n",
    "        ('\\s?Ср\\.\\s?', ' '),\n",
    "        ('\\(.*?\\)', ''),\n",
    "        ('(\\S) +(\\.)', '\\g<1>\\g<2>'),\n",
    "        ('[a-zA-Z]*', ''),\n",
    "        ('^\\W+(\\w+)', '\\g<1>'),\n",
    "        (' +', ' '),\n",
    "    ]\n",
    "    for old, new in replacements:\n",
    "        p = re.sub(old, new, p)\n",
    "    proverbs[i] = p"
   ]
  },
  {
   "cell_type": "code",
   "execution_count": 74,
   "metadata": {},
   "outputs": [],
   "source": [
    "with open('proverbs.txt', 'w', encoding='utf-8') as f:\n",
    "    for i in proverbs:\n",
    "        f.write(\"{}\\n\".format(i))"
   ]
  }
 ],
 "metadata": {
  "kernelspec": {
   "display_name": "Python 3",
   "language": "python",
   "name": "python3"
  },
  "language_info": {
   "codemirror_mode": {
    "name": "ipython",
    "version": 3
   },
   "file_extension": ".py",
   "mimetype": "text/x-python",
   "name": "python",
   "nbconvert_exporter": "python",
   "pygments_lexer": "ipython3",
   "version": "3.6.2"
  }
 },
 "nbformat": 4,
 "nbformat_minor": 2
}
